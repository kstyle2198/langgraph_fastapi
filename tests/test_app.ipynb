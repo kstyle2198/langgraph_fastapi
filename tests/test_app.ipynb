{
 "cells": [
  {
   "cell_type": "code",
   "execution_count": 7,
   "metadata": {},
   "outputs": [
    {
     "data": {
      "text/plain": [
       "<langserve.client.RemoteRunnable at 0x19b5552af00>"
      ]
     },
     "execution_count": 7,
     "metadata": {},
     "output_type": "execute_result"
    }
   ],
   "source": [
    "## the client is not working at the moment\n",
    "from langserve import RemoteRunnable\n",
    "import requests\n",
    "import json\n",
    "from pprint import pprint\n",
    "\n",
    "input_text = \"explain the brief concept of SOLAS?\"\n",
    "\n",
    "# with public IP address\n",
    "# app = RemoteRunnable(\"http://54.145.63.0:8080/agent_chat/\")\n",
    "\n",
    "# with localhost\n",
    "app = RemoteRunnable(\"http://localhost:8080/agent_chat/\")\n",
    "app\n"
   ]
  },
  {
   "cell_type": "code",
   "execution_count": 8,
   "metadata": {},
   "outputs": [
    {
     "name": "stdout",
     "output_type": "stream",
     "text": [
      "\"Node 'retrieve':\"\n",
      "'\\n---\\n'\n",
      "\"Node 'grade_documents':\"\n",
      "'\\n---\\n'\n",
      "\"Node 'generate':\"\n",
      "'\\n---\\n'\n"
     ]
    }
   ],
   "source": [
    "for output in app.stream(input={\"question\": input_text}):\n",
    "    for key, value in output.items():\n",
    "        # Node\n",
    "        pprint(f\"Node '{key}':\")\n",
    "        # Optional: print full state at each node\n",
    "        # pprint.pprint(value[\"keys\"], indent=2, width=80, depth=None)\n",
    "    pprint(\"\\n---\\n\")\n",
    "\n",
    "\n"
   ]
  },
  {
   "cell_type": "code",
   "execution_count": 9,
   "metadata": {},
   "outputs": [
    {
     "name": "stdout",
     "output_type": "stream",
     "text": [
      "Based on the provided context, I can explain the brief concept of SOLAS.\n",
      "\n",
      "SOLAS stands for the International Convention for the Safety of Life at Sea, 1974. It is a set of international regulations that aim to ensure the safety of life at sea. The convention was adopted in 1974 and has been amended several times since then.\n",
      "\n",
      "In the context of the provided documents, SOLAS is mentioned as one of the key conventions that the International Code for the Security for Ships and Port Facilities (ISPS Code) is based on. Specifically, SOLAS is mentioned in the context of ship security requirements, which include Regulation 4, 5, and 8 of Chapter XI-2 of SOLAS.\n",
      "\n",
      "The main goal of SOLAS is to establish safe practices in ship operation and a safe working environment, and to continuously improve safety management skills of personnel, including preparing for emergencies.\n",
      "\n",
      "In summary, SOLAS is an international convention that sets out regulations for ensuring the safety of life at sea, and it serves as a foundation for other maritime safety regulations, including the ISPS Code.\n"
     ]
    }
   ],
   "source": [
    "print(value['generation'])"
   ]
  },
  {
   "cell_type": "markdown",
   "metadata": {},
   "source": [
    "## Testing with Gradio UI"
   ]
  },
  {
   "cell_type": "code",
   "execution_count": 1,
   "metadata": {},
   "outputs": [],
   "source": [
    "\n",
    "def get_response(input_text):\n",
    "    app = RemoteRunnable(\"http://localhost:8080/agent_chat/\")\n",
    "    for output in app.stream({\"input\": input_text}):\n",
    "        for key, value in output.items():\n",
    "            # Node\n",
    "            pprint(f\"Node '{key}':\")\n",
    "            # Optional: print full state at each node\n",
    "            # pprint.pprint(value[\"keys\"], indent=2, width=80, depth=None)\n",
    "        pprint(\"\\n---\\n\")\n",
    "    output = value['generation']\n",
    "    return output      "
   ]
  },
  {
   "cell_type": "code",
   "execution_count": 2,
   "metadata": {},
   "outputs": [
    {
     "name": "stderr",
     "output_type": "stream",
     "text": [
      "/Users/bhargobdeka/Desktop/Projects/RAG-chatbot-Speckly/venv/lib/python3.10/site-packages/tqdm/auto.py:21: TqdmWarning: IProgress not found. Please update jupyter and ipywidgets. See https://ipywidgets.readthedocs.io/en/stable/user_install.html\n",
      "  from .autonotebook import tqdm as notebook_tqdm\n"
     ]
    },
    {
     "name": "stdout",
     "output_type": "stream",
     "text": [
      "Running on local URL:  http://127.0.0.1:7860\n",
      "Running on public URL: https://f03b5de2f94ddf9351.gradio.live\n",
      "\n",
      "This share link expires in 72 hours. For free permanent hosting and GPU upgrades, run `gradio deploy` from Terminal to deploy to Spaces (https://huggingface.co/spaces)\n"
     ]
    },
    {
     "data": {
      "text/html": [
       "<div><iframe src=\"https://f03b5de2f94ddf9351.gradio.live\" width=\"100%\" height=\"500\" allow=\"autoplay; camera; microphone; clipboard-read; clipboard-write;\" frameborder=\"0\" allowfullscreen></iframe></div>"
      ],
      "text/plain": [
       "<IPython.core.display.HTML object>"
      ]
     },
     "metadata": {},
     "output_type": "display_data"
    },
    {
     "data": {
      "text/plain": []
     },
     "execution_count": 2,
     "metadata": {},
     "output_type": "execute_result"
    },
    {
     "name": "stdout",
     "output_type": "stream",
     "text": [
      "\"Node 'retrieve':\"\n",
      "'\\n---\\n'\n",
      "\"Node 'grade_documents':\"\n",
      "'\\n---\\n'\n",
      "\"Node 'generate':\"\n",
      "'\\n---\\n'\n",
      "\"Node 'retrieve':\"\n",
      "'\\n---\\n'\n",
      "\"Node 'grade_documents':\"\n",
      "'\\n---\\n'\n",
      "\"Node 'generate':\"\n",
      "'\\n---\\n'\n"
     ]
    }
   ],
   "source": [
    "import gradio as gr\n",
    "from langserve import RemoteRunnable\n",
    "from pprint import pprint\n",
    "\n",
    "# Create the UI In Gradio\n",
    "iface = gr.Interface(fn=get_response, inputs=gr.Textbox(\n",
    "    value=\"Enter your question\"), \n",
    "        outputs=\"textbox\",  \n",
    "        title=\"Q&A over Speckle's developer docs\",\n",
    "        description=\"Ask a question about Speckle's developer docs and get an answer from the code assistant. This assistant looks up relevant documents and answers your code-related question.\",\n",
    "        examples=[[\"How do I install Speckle's python sdk?\"], \n",
    "                [\"How to commit and retrieve an object from Speckle?\"],\n",
    "                ],\n",
    "    theme=gr.themes.Soft(),\n",
    "    allow_flagging=\"never\",)\n",
    "\n",
    "iface.launch(share=True) # put share equal to True for public URL"
   ]
  },
  {
   "cell_type": "code",
   "execution_count": null,
   "metadata": {},
   "outputs": [],
   "source": []
  }
 ],
 "metadata": {
  "kernelspec": {
   "display_name": ".venv",
   "language": "python",
   "name": "python3"
  },
  "language_info": {
   "codemirror_mode": {
    "name": "ipython",
    "version": 3
   },
   "file_extension": ".py",
   "mimetype": "text/x-python",
   "name": "python",
   "nbconvert_exporter": "python",
   "pygments_lexer": "ipython3",
   "version": "3.12.6"
  }
 },
 "nbformat": 4,
 "nbformat_minor": 2
}
